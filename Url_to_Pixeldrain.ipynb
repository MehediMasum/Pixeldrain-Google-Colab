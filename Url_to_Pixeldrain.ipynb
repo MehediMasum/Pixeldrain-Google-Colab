# Import necessary libraries
import requests
import subprocess
import json  # Import json module for parsing
import time  # Import time module for timing operations

# Define your PixelDrain API key
# [EDIT HERE] Replace 'your_pixel_drain_api_key' with your actual PixelDrain API key.
api_key = "your_pixel_drain_api_key"  # Replace with your actual PixelDrain API key

# Function to download a file from a URL
def download_file(url, file_name):
    """
    Download a file from a specified URL and save it locally.

    Parameters:
    url (str): The URL to download the file from. [EDIT HERE] Change this URL to the file you want to download.
    file_name (str): The local file name to save the downloaded file as. [EDIT HERE] Change this to your preferred local file name.
    """
    print(f"Starting download from: {url}")
    
    # Start time for download speed calculation
    start_time = time.time()
    
    response = requests.get(url, stream=True)
    if response.status_code == 200:
        total_size = int(response.headers.get('content-length', 0))
        with open(file_name, 'wb') as f:
            for data in response.iter_content(chunk_size=8192):
                f.write(data)
        
        end_time = time.time()  # End time for download speed calculation
        
        download_duration = end_time - start_time
        download_speed = total_size / (1024 * 1024) / download_duration  # Speed in MB/s
        
        print(f"\nDownload complete!\nFile saved as: {file_name}")
        print(f"Total Size: {total_size / (1024 * 1024):.2f} MB")
        print(f"Download Duration: {download_duration:.2f} seconds")
        print(f"Download Speed: {download_speed:.2f} MB/s")
    else:
        print(f"\nFailed to download file.\nStatus Code: {response.status_code}\nResponse: {response.text}")

# Function to upload a file to PixelDrain using cURL
def upload_to_pixeldrain(file_name, api_key):
    """
    Upload a file to PixelDrain using cURL command.

    Parameters:
    file_name (str): The local file name to upload. [EDIT HERE] Change this to the file you want to upload.
    api_key (str): The PixelDrain API key for authentication. [EDIT HERE] Ensure the API key is set correctly.
    """
    # Prepare the cURL command for uploading the file
    curl_command = f'curl -T "{file_name}" -u :{api_key} https://pixeldrain.com/api/file/'
    
    print(f"\nInitiating file upload...\nFile: {file_name}\nUsing API Key: {api_key[:5]}... (hidden for security)")

    # Start time for upload duration calculation
    start_time = time.time()
    
    # Execute the cURL command
    try:
        result = subprocess.run(curl_command, shell=True, capture_output=True, text=True)
        end_time = time.time()  # End time for upload duration calculation
        
        if result.returncode == 0:
            response_data = result.stdout.strip()  # Remove any extra whitespace

            # Calculate upload duration
            upload_duration = end_time - start_time
            
            # Parse and display important information from the response
            print("\nFile uploaded successfully!")
            print("Response from PixelDrain:")
            try:
                response_json = json.loads(response_data)  # Convert response to JSON
                file_id = response_json.get("id", "N/A")
                file_name = response_json.get("name", "N/A")
                file_size = response_json.get("size", "N/A")
                upload_date = response_json.get("date_upload", "N/A")
                download_url = f"https://pixeldrain.com/api/file/{file_id}"

                print(f"File ID: {file_id}")
                print(f"File Name: {file_name}")
                print(f"File Size: {file_size / (1024 * 1024):.2f} MB")  # Convert bytes to MB
                print(f"Upload Date: {upload_date}")
                print(f"Download URL: {download_url}")
                print(f"Upload Duration: {upload_duration:.2f} seconds")
            except json.JSONDecodeError as e:
                print(f"Failed to parse response JSON.\nError: {e}")
                print(f"Response Data: {response_data}")
        else:
            print("\nUpload failed.")
            print(f"Error Code: {result.returncode}")
            print(f"Error Message: {result.stderr}")
    except Exception as e:
        print(f"\nAn unexpected error occurred during upload:\n{e}")

# Example usage
# [EDIT HERE] Change the URL to the file you want to download.
download_url = "Direct_Url"  # URL of the file to download
# [EDIT HERE] Change the file name to match your local file name.
file_name = "File_Name_with_extention"  # Name to save the downloaded file locally

# Step 1: Download the file
download_file(download_url, file_name)

# Step 2: Upload the file to PixelDrain
upload_to_pixeldrain(file_name, api_key)
